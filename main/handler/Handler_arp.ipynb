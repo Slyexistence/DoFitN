{
 "cells": [
  {
   "cell_type": "markdown",
   "metadata": {},
   "source": [
    "# Работа с данными\n",
    "Создан класс обработчик, который обрабатывает pcap - файлы , а именно протокол ARP и вытаскивает\n",
    "timestamp – время, когда был захвачен пакет.\n",
    "sender_mac – MAC-адрес устройства, отправляющего ARP-запрос или ответ.\n",
    "sender_ip – IP-адрес отправителя.\n",
    "target_mac – MAC-адрес устройства, которому предназначен ARP-запрос или ответ.\n",
    "target_ip – IP-адрес получателя.\n",
    "operation – тип ARP-операции (1 – запрос, 2 – ответ).\n",
    "label – нормальный - 0 , аномальный - 1. Также можно вписать в label, как душе будет угодно для метки\n"
   ]
  },
  {
   "cell_type": "code",
   "execution_count": 2,
   "metadata": {},
   "outputs": [
    {
     "name": "stdout",
     "output_type": "stream",
     "text": [
      "Processed 3667 ARP packets. Data saved to New_data_sanya.csv\n"
     ]
    }
   ],
   "source": [
    "from scapy.all import rdpcap, ARP\n",
    "import pandas as pd\n",
    "\n",
    "class ARPDataHandler:\n",
    "    def __init__(self, file_paths, labels):\n",
    "  \n",
    "        self.file_paths = file_paths\n",
    "        self.labels = labels\n",
    "        self.data = []\n",
    "\n",
    "    def process_files(self):\n",
    "        # Считывает файлы pcapng и извлекает функции ARP\n",
    "        for file_path, label in zip(self.file_paths, self.labels):\n",
    "            packets = rdpcap(file_path)  \n",
    "            self.extract_arp_features(packets, label)\n",
    "\n",
    "    def extract_arp_features(self, packets, label):\n",
    "        # Извлекает функции, связанные с ARP, из пакетов\n",
    "        for packet in packets:\n",
    "            if packet.haslayer(ARP):  \n",
    "                arp_layer = packet[ARP]\n",
    "                self.data.append({\n",
    "                    \"timestamp\": packet.time, # Время захвата пакета\n",
    "                    \"sender_mac\": arp_layer.hwsrc, # Mac-адресс отправляющего запрос\n",
    "                    \"sender_ip\": arp_layer.psrc, # ip -адерсс отправляющего запрос\n",
    "                    \"target_mac\": arp_layer.hwdst, # Mac-адресс которому предназначен запрос или ответ\n",
    "                    \"target_ip\": arp_layer.pdst, # Ip получателя\n",
    "                    \"operation\": arp_layer.op,  # 1 = запрос 2 = ответ\n",
    "                    \"label\": label  #  где 0 нормальный трафик, 1 аномальный. Также по названи. в CSV файле можно понять.\n",
    "                })\n",
    "\n",
    "    def save_to_csv(self, output_file):\n",
    "        # Преобразует данные в DataFrame и сохраняет их в виде CSV-файла\n",
    "        df = pd.DataFrame(self.data)\n",
    "        df.to_csv(output_file, index=False)\n",
    "        print(f\"Processed {len(df)} ARP packets. Data saved to {output_file}\")\n",
    "\n",
    "# Путь к файлам\n",
    "file_paths = [\n",
    "    r'D:\\Проекты\\Дипломаня работа\\DoFitN\\Data\\PCAP\\SANYA\\Normal.pcapng',  \n",
    "    r'D:\\Проекты\\Дипломаня работа\\DoFitN\\Data\\PCAP\\SANYA\\AnomalS.pcapng'  \n",
    "\n",
    "]\n",
    "\n",
    "labels = 0,1\n",
    "\n",
    "\n",
    "arp_handler = ARPDataHandler(file_paths, labels)\n",
    "arp_handler.process_files()\n",
    "arp_handler.save_to_csv(\"New_data_sanya.csv\")\n"
   ]
  },
  {
   "cell_type": "markdown",
   "metadata": {},
   "source": [
    "# Аугментация данных ,для увеелчения датасета\n"
   ]
  },
  {
   "cell_type": "code",
   "execution_count": 3,
   "metadata": {},
   "outputs": [
    {
     "name": "stdout",
     "output_type": "stream",
     "text": [
      "Создан новый файл с аугментированными данными: arp_A_augmented.pcapng\n"
     ]
    }
   ],
   "source": [
    "from scapy.all import rdpcap, wrpcap, ARP\n",
    "import random\n",
    "import pandas as pd\n",
    "\n",
    "# Функция для генерации случайного MAC-адреса\n",
    "def random_mac():\n",
    "    return \":\".join(f\"{random.randint(0x00, 0xFF):02x}\" for _ in range(6))\n",
    "\n",
    "# Функция для генерации случайного IP-адреса (в пределах локальной сети)\n",
    "def random_ip():\n",
    "    return f\"192.168.1.{random.randint(1, 254)}\"\n",
    "\n",
    "# Загрузка аномального трафика\n",
    "anomalous_packets = rdpcap(r'D:\\Проекты\\Дипломаня работа\\DoFitN\\Data\\arp_A2.pcapng')\n",
    "\n",
    "# Создаем список для новых аномальных пакетов\n",
    "augmented_packets = []\n",
    "\n",
    "for pkt in anomalous_packets:\n",
    "    if pkt.haslayer(ARP):\n",
    "        new_pkt = pkt.copy()\n",
    "        \n",
    "        # Генерируем небольшие изменения в пакетах\n",
    "        if random.random() > 0.5:  # 50% пакетов меняем MAC-адрес\n",
    "            new_pkt.hwsrc = random_mac()\n",
    "            new_pkt.hwdst = random_mac()\n",
    "        \n",
    "        if random.random() > 0.5:  # 50% пакетов меняем IP-адрес\n",
    "            new_pkt.psrc = random_ip()\n",
    "            new_pkt.pdst = random_ip()\n",
    "        \n",
    "        augmented_packets.append(new_pkt)\n",
    "\n",
    "# Сохраняем новый датасет с аугментированными данными\n",
    "wrpcap(\"arp_A2_augmented.pcapng\", augmented_packets)\n",
    "\n",
    "print(f\"Создан новый файл с аугментированными данными: arp_A_augmented.pcapng\")\n"
   ]
  }
 ],
 "metadata": {
  "kernelspec": {
   "display_name": "Python 3",
   "language": "python",
   "name": "python3"
  },
  "language_info": {
   "codemirror_mode": {
    "name": "ipython",
    "version": 3
   },
   "file_extension": ".py",
   "mimetype": "text/x-python",
   "name": "python",
   "nbconvert_exporter": "python",
   "pygments_lexer": "ipython3",
   "version": "3.12.4"
  }
 },
 "nbformat": 4,
 "nbformat_minor": 2
}
